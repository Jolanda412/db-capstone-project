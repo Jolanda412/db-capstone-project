{
 "cells": [
  {
   "cell_type": "code",
   "execution_count": 1,
   "id": "4578cb9e-f259-4f79-a70b-7750e175b23a",
   "metadata": {},
   "outputs": [],
   "source": [
    "#!pip install mysql-connector-python"
   ]
  },
  {
   "cell_type": "code",
   "execution_count": 2,
   "id": "af1a3027-2785-4cb3-9501-5729f0dc2198",
   "metadata": {},
   "outputs": [],
   "source": [
    "import mysql.connector as connector"
   ]
  },
  {
   "cell_type": "code",
   "execution_count": 3,
   "id": "e0efb86b-0d13-4d33-ad72-333236e416cf",
   "metadata": {},
   "outputs": [],
   "source": [
    "connection = connector.connect(user='root', password = 'Wachtwoord321', db = 'mydb')"
   ]
  },
  {
   "cell_type": "code",
   "execution_count": 4,
   "id": "2a687df3-635d-4c05-a075-5e16914a6527",
   "metadata": {},
   "outputs": [],
   "source": [
    "cursor = connection.cursor()"
   ]
  },
  {
   "cell_type": "code",
   "execution_count": 5,
   "id": "41be97e2-e42b-4320-9364-c43d70f9d2b6",
   "metadata": {},
   "outputs": [],
   "source": [
    "show_tables_query = \"\"\"SHOW tables\"\"\"\n",
    "cursor.execute(show_tables_query)"
   ]
  },
  {
   "cell_type": "code",
   "execution_count": 8,
   "id": "99c821bf-17e7-4b34-be02-15d696c6c335",
   "metadata": {},
   "outputs": [
    {
     "name": "stdout",
     "output_type": "stream",
     "text": [
      "[('bookings',), ('customers',), ('delivery',), ('menu',), ('menuitems',), ('orders',), ('ordersview',), ('staff',)]\n"
     ]
    }
   ],
   "source": [
    "results = cursor.fetchall()\n",
    "print(results)"
   ]
  },
  {
   "cell_type": "code",
   "execution_count": 20,
   "id": "70b76331-8dbe-4542-afac-83c13bb8b911",
   "metadata": {},
   "outputs": [],
   "source": [
    "task3_query = \"\"\"SELECT CONCAT(c.FirstName, ' ', c.LastName) AS GuestFullName, c.ContactNumber, CAST(o.Cost AS FLOAT(2)) AS TotalCost\n",
    "    FROM orders o INNER JOIN customers c ON o.CustomerID = c.CustomerID \n",
    "    WHERE o.Cost > 60;\"\"\"\n",
    "cursor.execute(task3_query)"
   ]
  },
  {
   "cell_type": "code",
   "execution_count": 21,
   "id": "af74016c-5442-49a8-8cbf-1fc46eb1f814",
   "metadata": {},
   "outputs": [
    {
     "name": "stdout",
     "output_type": "stream",
     "text": [
      "[('Hiroki Yamane', '757536376', 500.0), ('Anna Iversen', '757536375', 750.0), ('Diana Pinto', '757536374', 400.0), ('Vanessa McCarthy', '757536378', 800.0)]\n"
     ]
    }
   ],
   "source": [
    "results = cursor.fetchall()\n",
    "print(results)"
   ]
  },
  {
   "cell_type": "code",
   "execution_count": null,
   "id": "f9ef2b8b-de98-4422-bd2c-9d6216e5821a",
   "metadata": {},
   "outputs": [],
   "source": []
  }
 ],
 "metadata": {
  "kernelspec": {
   "display_name": "Python 3 (ipykernel)",
   "language": "python",
   "name": "python3"
  },
  "language_info": {
   "codemirror_mode": {
    "name": "ipython",
    "version": 3
   },
   "file_extension": ".py",
   "mimetype": "text/x-python",
   "name": "python",
   "nbconvert_exporter": "python",
   "pygments_lexer": "ipython3",
   "version": "3.12.3"
  }
 },
 "nbformat": 4,
 "nbformat_minor": 5
}
